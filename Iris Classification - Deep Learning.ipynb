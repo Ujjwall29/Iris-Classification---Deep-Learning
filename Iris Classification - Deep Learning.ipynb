{
 "cells": [
  {
   "cell_type": "code",
   "execution_count": 1,
   "id": "ea311367",
   "metadata": {},
   "outputs": [
    {
     "name": "stdout",
     "output_type": "stream",
     "text": [
      "WARNING:tensorflow:From D:\\Users\\Ujjawal\\anaconda3\\lib\\site-packages\\keras\\src\\losses.py:2976: The name tf.losses.sparse_softmax_cross_entropy is deprecated. Please use tf.compat.v1.losses.sparse_softmax_cross_entropy instead.\n",
      "\n"
     ]
    }
   ],
   "source": [
    "# Importing necessary libraries\n",
    "\n",
    "import pandas as pd\n",
    "import sklearn\n",
    "import tensorflow as tf\n",
    "import matplotlib.pyplot as plt"
   ]
  },
  {
   "cell_type": "code",
   "execution_count": 2,
   "id": "95c881a1",
   "metadata": {},
   "outputs": [],
   "source": [
    "import os\n",
    "import numpy as np\n",
    "from sklearn.model_selection import train_test_split\n",
    "from sklearn.preprocessing import StandardScaler"
   ]
  },
  {
   "cell_type": "code",
   "execution_count": 3,
   "id": "967d86df",
   "metadata": {},
   "outputs": [],
   "source": [
    "# Loading dataset\n",
    "\n",
    "df = pd.read_csv(\"C:\\\\Users\\\\Ujjawal\\\\Downloads\\\\Deep learning 1 exercise files\\\\Ex_Files_Deep_Learning_Getting_Started\\\\Exercise Files\\\\iris.csv\")"
   ]
  },
  {
   "cell_type": "code",
   "execution_count": 4,
   "id": "b9e8f689",
   "metadata": {},
   "outputs": [
    {
     "data": {
      "text/html": [
       "<div>\n",
       "<style scoped>\n",
       "    .dataframe tbody tr th:only-of-type {\n",
       "        vertical-align: middle;\n",
       "    }\n",
       "\n",
       "    .dataframe tbody tr th {\n",
       "        vertical-align: top;\n",
       "    }\n",
       "\n",
       "    .dataframe thead th {\n",
       "        text-align: right;\n",
       "    }\n",
       "</style>\n",
       "<table border=\"1\" class=\"dataframe\">\n",
       "  <thead>\n",
       "    <tr style=\"text-align: right;\">\n",
       "      <th></th>\n",
       "      <th>Sepal.Length</th>\n",
       "      <th>Sepal.Width</th>\n",
       "      <th>Petal.Length</th>\n",
       "      <th>Petal.Width</th>\n",
       "      <th>Species</th>\n",
       "    </tr>\n",
       "  </thead>\n",
       "  <tbody>\n",
       "    <tr>\n",
       "      <th>0</th>\n",
       "      <td>5.1</td>\n",
       "      <td>3.5</td>\n",
       "      <td>1.4</td>\n",
       "      <td>0.2</td>\n",
       "      <td>setosa</td>\n",
       "    </tr>\n",
       "    <tr>\n",
       "      <th>1</th>\n",
       "      <td>4.9</td>\n",
       "      <td>3.0</td>\n",
       "      <td>1.4</td>\n",
       "      <td>0.2</td>\n",
       "      <td>setosa</td>\n",
       "    </tr>\n",
       "    <tr>\n",
       "      <th>2</th>\n",
       "      <td>4.7</td>\n",
       "      <td>3.2</td>\n",
       "      <td>1.3</td>\n",
       "      <td>0.2</td>\n",
       "      <td>setosa</td>\n",
       "    </tr>\n",
       "    <tr>\n",
       "      <th>3</th>\n",
       "      <td>4.6</td>\n",
       "      <td>3.1</td>\n",
       "      <td>1.5</td>\n",
       "      <td>0.2</td>\n",
       "      <td>setosa</td>\n",
       "    </tr>\n",
       "    <tr>\n",
       "      <th>4</th>\n",
       "      <td>5.0</td>\n",
       "      <td>3.6</td>\n",
       "      <td>1.4</td>\n",
       "      <td>0.2</td>\n",
       "      <td>setosa</td>\n",
       "    </tr>\n",
       "  </tbody>\n",
       "</table>\n",
       "</div>"
      ],
      "text/plain": [
       "   Sepal.Length  Sepal.Width  Petal.Length  Petal.Width Species\n",
       "0           5.1          3.5           1.4          0.2  setosa\n",
       "1           4.9          3.0           1.4          0.2  setosa\n",
       "2           4.7          3.2           1.3          0.2  setosa\n",
       "3           4.6          3.1           1.5          0.2  setosa\n",
       "4           5.0          3.6           1.4          0.2  setosa"
      ]
     },
     "execution_count": 4,
     "metadata": {},
     "output_type": "execute_result"
    }
   ],
   "source": [
    "# Brief info of the dataset\n",
    "\n",
    "df.head()"
   ]
  },
  {
   "cell_type": "code",
   "execution_count": 5,
   "id": "19867888",
   "metadata": {},
   "outputs": [],
   "source": [
    "# Using label encoder to convert string into a numerical value for the target variable\n",
    "\n",
    "from sklearn import preprocessing\n",
    "label_encoder = preprocessing.LabelEncoder()\n",
    "\n",
    "df['Species'] = label_encoder.fit_transform(df['Species'])"
   ]
  },
  {
   "cell_type": "code",
   "execution_count": 6,
   "id": "f899a7b7",
   "metadata": {},
   "outputs": [],
   "source": [
    "# Converting input into numpy array\n",
    "\n",
    "np_df = df.to_numpy()"
   ]
  },
  {
   "cell_type": "code",
   "execution_count": 7,
   "id": "7d32c83a",
   "metadata": {},
   "outputs": [],
   "source": [
    "# Separating features and target variables\n",
    "# Here feature variables are: Sepal.Length, Sepal.Width, Petal.Length, and Petal.Width\n",
    "# Target Variable is Species\n",
    "\n",
    "x_df = np_df[:, 0:4]\n",
    "y_df = np_df[:,4]"
   ]
  },
  {
   "cell_type": "code",
   "execution_count": 8,
   "id": "5177e2fb",
   "metadata": {},
   "outputs": [
    {
     "name": "stdout",
     "output_type": "stream",
     "text": [
      "\n",
      "Features before scaling :\n",
      "--------------------------------\n",
      "[[5.1 3.5 1.4 0.2]\n",
      " [4.9 3.  1.4 0.2]\n",
      " [4.7 3.2 1.3 0.2]\n",
      " [4.6 3.1 1.5 0.2]\n",
      " [5.  3.6 1.4 0.2]]\n",
      "\n",
      "Target after scaling :\n",
      "--------------------------------\n",
      "[0. 0. 0. 0. 0.]\n"
     ]
    }
   ],
   "source": [
    "print(\"\\nFeatures before scaling :\\n--------------------------------\")\n",
    "print(x_df[:5,:])\n",
    "print(\"\\nTarget after scaling :\\n--------------------------------\")\n",
    "print(y_df[:5])"
   ]
  },
  {
   "cell_type": "code",
   "execution_count": 9,
   "id": "05d19cb0",
   "metadata": {},
   "outputs": [],
   "source": [
    "# Creating a scaler model that is fit on the input model\n",
    "\n",
    "scaler = StandardScaler().fit(x_df)"
   ]
  },
  {
   "cell_type": "code",
   "execution_count": 10,
   "id": "5ccd3fcb",
   "metadata": {},
   "outputs": [],
   "source": [
    "# scaling the numeric feature column\n",
    "\n",
    "x_df = scaler.transform(x_df)"
   ]
  },
  {
   "cell_type": "code",
   "execution_count": 11,
   "id": "571f45e7",
   "metadata": {},
   "outputs": [],
   "source": [
    "# Converting target variable as a one-hot encoding array\n",
    "\n",
    "y_df = tf.keras.utils.to_categorical(y_df,3)"
   ]
  },
  {
   "cell_type": "code",
   "execution_count": 12,
   "id": "5b5fa9c5",
   "metadata": {},
   "outputs": [
    {
     "name": "stdout",
     "output_type": "stream",
     "text": [
      "\n",
      "Features after scaling :\n",
      "--------------------------------\n",
      "[[-0.90068117  1.01900435 -1.34022653 -1.3154443 ]\n",
      " [-1.14301691 -0.13197948 -1.34022653 -1.3154443 ]\n",
      " [-1.38535265  0.32841405 -1.39706395 -1.3154443 ]\n",
      " [-1.50652052  0.09821729 -1.2833891  -1.3154443 ]\n",
      " [-1.02184904  1.24920112 -1.34022653 -1.3154443 ]]\n",
      "\n",
      "Target after one-hot encoding :\n",
      "--------------------------------\n",
      "[[1. 0. 0.]\n",
      " [1. 0. 0.]\n",
      " [1. 0. 0.]\n",
      " [1. 0. 0.]\n",
      " [1. 0. 0.]]\n"
     ]
    }
   ],
   "source": [
    "print(\"\\nFeatures before scaling :\\n--------------------------------\")\n",
    "print(x_df[:5,:])\n",
    "print(\"\\nTarget after one-hot encoding :\\n--------------------------------\")\n",
    "print(y_df[:5,:])"
   ]
  },
  {
   "cell_type": "code",
   "execution_count": 13,
   "id": "2ec7f75c",
   "metadata": {},
   "outputs": [
    {
     "name": "stdout",
     "output_type": "stream",
     "text": [
      "\n",
      "Train Test Dimensions :\n",
      "--------------------------------\n",
      "(135, 4) (135, 3) (15, 4) (15, 3)\n"
     ]
    }
   ],
   "source": [
    "# Splitting dataset into training and testing dataset\n",
    "\n",
    "x_train, x_test, y_train, y_test = train_test_split(x_df, y_df, test_size = 0.10)\n",
    "\n",
    "print(\"\\nTrain Test Dimensions :\\n--------------------------------\")\n",
    "print(x_train.shape, y_train.shape, x_test.shape, y_test.shape)"
   ]
  },
  {
   "cell_type": "markdown",
   "id": "29cc718a",
   "metadata": {},
   "source": [
    "# Creating a deep-learning model"
   ]
  },
  {
   "cell_type": "markdown",
   "id": "32c124eb",
   "metadata": {},
   "source": [
    "Creating a model in Keras requires defining the following:\n",
    "\n",
    "1.) Number of hidden layers\n",
    "2.) Number of nodes in each layer\n",
    "3.) Activation functions\n",
    "4.) Loss function and accuracy measurements"
   ]
  },
  {
   "cell_type": "code",
   "execution_count": 14,
   "id": "fa955377",
   "metadata": {},
   "outputs": [],
   "source": [
    "from tensorflow import keras"
   ]
  },
  {
   "cell_type": "code",
   "execution_count": 15,
   "id": "4f275825",
   "metadata": {},
   "outputs": [],
   "source": [
    "# Number of classes in the target variable\n",
    "\n",
    "nb_class = 3"
   ]
  },
  {
   "cell_type": "code",
   "execution_count": 16,
   "id": "85baa7c5",
   "metadata": {},
   "outputs": [
    {
     "name": "stdout",
     "output_type": "stream",
     "text": [
      "WARNING:tensorflow:From D:\\Users\\Ujjawal\\anaconda3\\lib\\site-packages\\keras\\src\\backend.py:873: The name tf.get_default_graph is deprecated. Please use tf.compat.v1.get_default_graph instead.\n",
      "\n"
     ]
    }
   ],
   "source": [
    "# Creating a sequential model in keras\n",
    "\n",
    "model = tf.keras.models.Sequential()"
   ]
  },
  {
   "cell_type": "code",
   "execution_count": 17,
   "id": "2ac511b0",
   "metadata": {},
   "outputs": [],
   "source": [
    "# Adding the first hidden layer\n",
    "\n",
    "model.add(keras.layers.Dense(128,                     # Number of nodes\n",
    "                            input_shape = [4,],       # Number of input variables\n",
    "                            name = 'Hidden-layer-1',  # Logical name\n",
    "                            activation = 'relu'))     # Activation function"
   ]
  },
  {
   "cell_type": "code",
   "execution_count": 18,
   "id": "baa73deb",
   "metadata": {},
   "outputs": [],
   "source": [
    "# Adding a second hidden layer\n",
    "\n",
    "model.add(keras.layers.Dense(128,                           \n",
    "                            name = 'Hidden-layer-2',  \n",
    "                            activation = 'relu'))"
   ]
  },
  {
   "cell_type": "code",
   "execution_count": 19,
   "id": "0930a09f",
   "metadata": {},
   "outputs": [],
   "source": [
    "# Adding output layer with softmax activation\n",
    "\n",
    "model.add(keras.layers.Dense(nb_class,\n",
    "                            name = 'Output-Layer',\n",
    "                            activation = 'softmax'))"
   ]
  },
  {
   "cell_type": "code",
   "execution_count": 20,
   "id": "be8b23ea",
   "metadata": {},
   "outputs": [
    {
     "name": "stdout",
     "output_type": "stream",
     "text": [
      "WARNING:tensorflow:From D:\\Users\\Ujjawal\\anaconda3\\lib\\site-packages\\keras\\src\\optimizers\\__init__.py:309: The name tf.train.Optimizer is deprecated. Please use tf.compat.v1.train.Optimizer instead.\n",
      "\n"
     ]
    }
   ],
   "source": [
    "# Compiling the model with loss and metrics\n",
    "\n",
    "model.compile(loss = \"categorical_crossentropy\",\n",
    "             metrics = [\"accuracy\"])"
   ]
  },
  {
   "cell_type": "code",
   "execution_count": 21,
   "id": "853e220b",
   "metadata": {},
   "outputs": [
    {
     "name": "stdout",
     "output_type": "stream",
     "text": [
      "Model: \"sequential\"\n",
      "_________________________________________________________________\n",
      " Layer (type)                Output Shape              Param #   \n",
      "=================================================================\n",
      " Hidden-layer-1 (Dense)      (None, 128)               640       \n",
      "                                                                 \n",
      " Hidden-layer-2 (Dense)      (None, 128)               16512     \n",
      "                                                                 \n",
      " Output-Layer (Dense)        (None, 3)                 387       \n",
      "                                                                 \n",
      "=================================================================\n",
      "Total params: 17539 (68.51 KB)\n",
      "Trainable params: 17539 (68.51 KB)\n",
      "Non-trainable params: 0 (0.00 Byte)\n",
      "_________________________________________________________________\n"
     ]
    }
   ],
   "source": [
    "model.summary()"
   ]
  },
  {
   "cell_type": "markdown",
   "id": "11af5ab8",
   "metadata": {},
   "source": [
    "# Training and Evaluation"
   ]
  },
  {
   "cell_type": "code",
   "execution_count": 22,
   "id": "b1941b59",
   "metadata": {},
   "outputs": [],
   "source": [
    "# Making the model verbose, so we can see the progress\n",
    "\n",
    "verb = 1"
   ]
  },
  {
   "cell_type": "code",
   "execution_count": 23,
   "id": "4e63a908",
   "metadata": {},
   "outputs": [],
   "source": [
    "# Setting up hyper-parameters for training\n",
    "\n",
    "batch = 16\n",
    "epoch = 15\n",
    "\n",
    "# Setting validation split : Percentage of training data used for validation\n",
    "\n",
    "v_split = 0.2"
   ]
  },
  {
   "cell_type": "code",
   "execution_count": 24,
   "id": "af907241",
   "metadata": {},
   "outputs": [
    {
     "name": "stdout",
     "output_type": "stream",
     "text": [
      "\n",
      "Training Progress: \n",
      "----------------------------------\n",
      "Epoch 1/15\n",
      "WARNING:tensorflow:From D:\\Users\\Ujjawal\\anaconda3\\lib\\site-packages\\keras\\src\\utils\\tf_utils.py:492: The name tf.ragged.RaggedTensorValue is deprecated. Please use tf.compat.v1.ragged.RaggedTensorValue instead.\n",
      "\n",
      "WARNING:tensorflow:From D:\\Users\\Ujjawal\\anaconda3\\lib\\site-packages\\keras\\src\\engine\\base_layer_utils.py:384: The name tf.executing_eagerly_outside_functions is deprecated. Please use tf.compat.v1.executing_eagerly_outside_functions instead.\n",
      "\n",
      "7/7 [==============================] - 1s 53ms/step - loss: 0.8127 - accuracy: 0.7222 - val_loss: 0.5819 - val_accuracy: 0.8889\n",
      "Epoch 2/15\n",
      "7/7 [==============================] - 0s 12ms/step - loss: 0.5435 - accuracy: 0.8056 - val_loss: 0.4487 - val_accuracy: 0.8889\n",
      "Epoch 3/15\n",
      "7/7 [==============================] - 0s 11ms/step - loss: 0.4348 - accuracy: 0.8333 - val_loss: 0.3768 - val_accuracy: 0.8519\n",
      "Epoch 4/15\n",
      "7/7 [==============================] - 0s 11ms/step - loss: 0.3698 - accuracy: 0.8333 - val_loss: 0.3231 - val_accuracy: 0.9259\n",
      "Epoch 5/15\n",
      "7/7 [==============================] - 0s 9ms/step - loss: 0.3313 - accuracy: 0.8611 - val_loss: 0.2877 - val_accuracy: 0.9259\n",
      "Epoch 6/15\n",
      "7/7 [==============================] - 0s 11ms/step - loss: 0.3011 - accuracy: 0.8611 - val_loss: 0.2582 - val_accuracy: 0.9259\n",
      "Epoch 7/15\n",
      "7/7 [==============================] - 0s 9ms/step - loss: 0.2775 - accuracy: 0.8611 - val_loss: 0.2329 - val_accuracy: 0.9630\n",
      "Epoch 8/15\n",
      "7/7 [==============================] - 0s 11ms/step - loss: 0.2588 - accuracy: 0.8981 - val_loss: 0.2129 - val_accuracy: 0.9259\n",
      "Epoch 9/15\n",
      "7/7 [==============================] - 0s 11ms/step - loss: 0.2307 - accuracy: 0.9074 - val_loss: 0.1908 - val_accuracy: 1.0000\n",
      "Epoch 10/15\n",
      "7/7 [==============================] - 0s 12ms/step - loss: 0.2183 - accuracy: 0.9074 - val_loss: 0.1839 - val_accuracy: 1.0000\n",
      "Epoch 11/15\n",
      "7/7 [==============================] - 0s 9ms/step - loss: 0.2012 - accuracy: 0.9259 - val_loss: 0.1565 - val_accuracy: 1.0000\n",
      "Epoch 12/15\n",
      "7/7 [==============================] - 0s 11ms/step - loss: 0.1943 - accuracy: 0.9259 - val_loss: 0.1439 - val_accuracy: 1.0000\n",
      "Epoch 13/15\n",
      "7/7 [==============================] - 0s 11ms/step - loss: 0.1786 - accuracy: 0.9259 - val_loss: 0.1291 - val_accuracy: 1.0000\n",
      "Epoch 14/15\n",
      "7/7 [==============================] - 0s 11ms/step - loss: 0.1596 - accuracy: 0.9352 - val_loss: 0.1164 - val_accuracy: 1.0000\n",
      "Epoch 15/15\n",
      "7/7 [==============================] - 0s 10ms/step - loss: 0.1550 - accuracy: 0.9537 - val_loss: 0.1151 - val_accuracy: 1.0000\n"
     ]
    }
   ],
   "source": [
    "print(\"\\nTraining Progress: \\n----------------------------------\")\n",
    "\n",
    "history = model.fit(x_train,\n",
    "                   y_train,\n",
    "                   batch_size = batch,\n",
    "                   epochs = epoch,\n",
    "                   verbose = verb,\n",
    "                   validation_split = v_split)"
   ]
  },
  {
   "cell_type": "code",
   "execution_count": 25,
   "id": "006d45a3",
   "metadata": {},
   "outputs": [
    {
     "name": "stdout",
     "output_type": "stream",
     "text": [
      "\n",
      "Accuracy during training :\n",
      "------------------------------\n"
     ]
    },
    {
     "data": {
      "image/png": "[encoded data removed]",
      "text/plain": [
       "<Figure size 800x500 with 1 Axes>"
      ]
     },
     "metadata": {},
     "output_type": "display_data"
    }
   ],
   "source": [
    "print(\"\\nAccuracy during training :\\n------------------------------\")\n",
    "\n",
    "# Plot accuracy after each epoch\n",
    "pd.DataFrame(history.history)[\"accuracy\"].plot(figsize=(8,5))\n",
    "plt.title(\"Accuracy improvements with epoch\")\n",
    "plt.show()"
   ]
  },
  {
   "cell_type": "code",
   "execution_count": 26,
   "id": "82359c66",
   "metadata": {},
   "outputs": [
    {
     "name": "stdout",
     "output_type": "stream",
     "text": [
      "\n",
      "Evaluation against test dataset :\n",
      "-------------------------\n",
      "1/1 [==============================] - 0s 32ms/step - loss: 0.1310 - accuracy: 1.0000\n"
     ]
    },
    {
     "data": {
      "text/plain": [
       "[0.13095246255397797, 1.0]"
      ]
     },
     "execution_count": 26,
     "metadata": {},
     "output_type": "execute_result"
    }
   ],
   "source": [
    "# Evaluating the model against test dataset\n",
    "\n",
    "print(\"\\nEvaluation against test dataset :\\n-------------------------\")\n",
    "model.evaluate(x_test, y_test)"
   ]
  },
  {
   "cell_type": "markdown",
   "id": "446ad229",
   "metadata": {},
   "source": [
    "Here, we are getting 100% accuracy"
   ]
  },
  {
   "cell_type": "markdown",
   "id": "31482dbf",
   "metadata": {},
   "source": [
    "# Saving and Loading models"
   ]
  },
  {
   "cell_type": "markdown",
   "id": "7f672fc4",
   "metadata": {},
   "source": [
    "The training and inference environment are usually separate. Models need to be saved after they are validated. They are then loaded into the inference environment for actual prediction."
   ]
  },
  {
   "cell_type": "code",
   "execution_count": 27,
   "id": "dfc73b0e",
   "metadata": {},
   "outputs": [
    {
     "name": "stderr",
     "output_type": "stream",
     "text": [
      "WARNING:absl:`Hidden-layer-1_input` is not a valid tf.function parameter name. Sanitizing to `Hidden_layer_1_input`.\n",
      "WARNING:absl:`Hidden-layer-1_input` is not a valid tf.function parameter name. Sanitizing to `Hidden_layer_1_input`.\n",
      "WARNING:absl:`Hidden-layer-1_input` is not a valid tf.function parameter name. Sanitizing to `Hidden_layer_1_input`.\n"
     ]
    },
    {
     "name": "stdout",
     "output_type": "stream",
     "text": [
      "INFO:tensorflow:Assets written to: iris_save\\assets\n"
     ]
    },
    {
     "name": "stderr",
     "output_type": "stream",
     "text": [
      "INFO:tensorflow:Assets written to: iris_save\\assets\n"
     ]
    }
   ],
   "source": [
    "# Saving a model\n",
    "\n",
    "model.save(\"iris_save\")"
   ]
  },
  {
   "cell_type": "code",
   "execution_count": 29,
   "id": "c1a7675a",
   "metadata": {},
   "outputs": [
    {
     "name": "stdout",
     "output_type": "stream",
     "text": [
      "WARNING:tensorflow:From D:\\Users\\Ujjawal\\anaconda3\\lib\\site-packages\\keras\\src\\saving\\legacy\\saved_model\\load.py:107: The name tf.gfile.Exists is deprecated. Please use tf.io.gfile.exists instead.\n",
      "\n"
     ]
    },
    {
     "name": "stderr",
     "output_type": "stream",
     "text": [
      "WARNING:tensorflow:From D:\\Users\\Ujjawal\\anaconda3\\lib\\site-packages\\keras\\src\\saving\\legacy\\saved_model\\load.py:107: The name tf.gfile.Exists is deprecated. Please use tf.io.gfile.exists instead.\n",
      "\n"
     ]
    }
   ],
   "source": [
    "# Loading the model\n",
    "\n",
    "loaded_model = keras.models.load_model(\"iris_save\")"
   ]
  },
  {
   "cell_type": "code",
   "execution_count": 30,
   "id": "92e9fa62",
   "metadata": {},
   "outputs": [
    {
     "name": "stdout",
     "output_type": "stream",
     "text": [
      "Model: \"sequential\"\n",
      "_________________________________________________________________\n",
      " Layer (type)                Output Shape              Param #   \n",
      "=================================================================\n",
      " Hidden-layer-1 (Dense)      (None, 128)               640       \n",
      "                                                                 \n",
      " Hidden-layer-2 (Dense)      (None, 128)               16512     \n",
      "                                                                 \n",
      " Output-Layer (Dense)        (None, 3)                 387       \n",
      "                                                                 \n",
      "=================================================================\n",
      "Total params: 17539 (68.51 KB)\n",
      "Trainable params: 17539 (68.51 KB)\n",
      "Non-trainable params: 0 (0.00 Byte)\n",
      "_________________________________________________________________\n"
     ]
    }
   ],
   "source": [
    "# Model summary\n",
    "\n",
    "loaded_model.summary()"
   ]
  },
  {
   "cell_type": "markdown",
   "id": "b695b6a8",
   "metadata": {},
   "source": [
    "# Predictions with Deep Learning Models"
   ]
  },
  {
   "cell_type": "code",
   "execution_count": 31,
   "id": "3642eaa4",
   "metadata": {},
   "outputs": [],
   "source": [
    "# Raw prediction data\n",
    "\n",
    "prediction_input = [[6.6, 3., 4.4, 1.4]]"
   ]
  },
  {
   "cell_type": "code",
   "execution_count": 32,
   "id": "c3284a1a",
   "metadata": {},
   "outputs": [],
   "source": [
    "# Scale prediction data with the same scaling model\n",
    "\n",
    "scaled_input = scaler.transform(prediction_input)"
   ]
  },
  {
   "cell_type": "code",
   "execution_count": 33,
   "id": "61c0f914",
   "metadata": {},
   "outputs": [
    {
     "name": "stdout",
     "output_type": "stream",
     "text": [
      "1/1 [==============================] - 0s 127ms/step\n",
      "Raw prediction ouput (Probabilities):  [[0.01147249 0.8259054  0.16262214]]\n"
     ]
    }
   ],
   "source": [
    "# Get raw prediction probabilities\n",
    "\n",
    "raw_predict = model.predict(scaled_input)\n",
    "print(\"Raw prediction ouput (Probabilities): \", raw_predict)"
   ]
  },
  {
   "cell_type": "code",
   "execution_count": 36,
   "id": "82542530",
   "metadata": {},
   "outputs": [
    {
     "name": "stdout",
     "output_type": "stream",
     "text": [
      "Prediction is  ['versicolor']\n"
     ]
    }
   ],
   "source": [
    "# prediction\n",
    "\n",
    "predict = np.argmax(raw_predict)\n",
    "print(\"Prediction is \", label_encoder.inverse_transform([predict]))"
   ]
  },
  {
   "cell_type": "markdown",
   "id": "74df7102",
   "metadata": {},
   "source": [
    "Species with the given prediction input is Versicolor with the highest probability of 82.6%"
   ]
  }
 ],
 "metadata": {
  "kernelspec": {
   "display_name": "Python 3 (ipykernel)",
   "language": "python",
   "name": "python3"
  },
  "language_info": {
   "codemirror_mode": {
    "name": "ipython",
    "version": 3
   },
   "file_extension": ".py",
   "mimetype": "text/x-python",
   "name": "python",
   "nbconvert_exporter": "python",
   "pygments_lexer": "ipython3",
   "version": "3.10.14"
  }
 },
 "nbformat": 4,
 "nbformat_minor": 5
}
